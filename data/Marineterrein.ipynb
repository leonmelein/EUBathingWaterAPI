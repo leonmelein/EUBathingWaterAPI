{
 "cells": [
  {
   "cell_type": "code",
   "execution_count": 46,
   "metadata": {},
   "outputs": [
    {
     "data": {
      "text/plain": [
       "'5bb60ddb-a0a0-54ac-a2b3-c647ddd1933f'"
      ]
     },
     "execution_count": 46,
     "metadata": {},
     "output_type": "execute_result"
    }
   ],
   "source": [
    "import requests\n",
    "import uuid\n",
    "import pandas as pd\n",
    "from datetime import datetime\n",
    "\n",
    "naam = \"Marineterrein\"\n",
    "zwemwaterlocatie_id = str(uuid.uuid5(uuid.NAMESPACE_DNS, naam))\n",
    "server = \"https://www.marineterrein.nl/wp-json/mtnc/v1/sensors\"\n",
    "zwemwaterlocatie_id"
   ]
  },
  {
   "cell_type": "code",
   "execution_count": 47,
   "metadata": {},
   "outputs": [],
   "source": [
    "response = requests.get(server).json()"
   ]
  },
  {
   "cell_type": "code",
   "execution_count": 48,
   "metadata": {},
   "outputs": [],
   "source": [
    "currentTime = datetime.utcnow()\n",
    "\n",
    "data = pd.DataFrame(\n",
    "    [[zwemwaterlocatie_id, naam, response['waterkwaliteit'],\n",
    "        \"nieuwe zwemlocatie (niet-officieël, wel gemonitord)\", None, currentTime, None, currentTime]],\n",
    "    columns=[\"zwemwaterlocatie_id\", \"naam\", \"status\", \"historie\", \"e_coli\", \"e_coli_datum\", \"int_ent\", \"int_ent_datum\"]\n",
    ").set_index(\"zwemwaterlocatie_id\")"
   ]
  },
  {
   "cell_type": "code",
   "execution_count": 49,
   "metadata": {},
   "outputs": [],
   "source": [
    "data.to_csv(\"output/NL-marineterrein.csv\")"
   ]
  }
 ],
 "metadata": {
  "kernelspec": {
   "display_name": "env",
   "language": "python",
   "name": "python3"
  },
  "language_info": {
   "codemirror_mode": {
    "name": "ipython",
    "version": 3
   },
   "file_extension": ".py",
   "mimetype": "text/x-python",
   "name": "python",
   "nbconvert_exporter": "python",
   "pygments_lexer": "ipython3",
   "version": "3.10.9 (main, Dec 15 2022, 17:11:09) [Clang 14.0.0 (clang-1400.0.29.202)]"
  },
  "orig_nbformat": 4,
  "vscode": {
   "interpreter": {
    "hash": "9911847caa712a7c47ddc2c3c7b2278bf1bccf623cbe24048963d5f3e5967c53"
   }
  }
 },
 "nbformat": 4,
 "nbformat_minor": 2
}
