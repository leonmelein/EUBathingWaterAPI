{
 "cells": [
  {
   "cell_type": "code",
   "execution_count": 1,
   "metadata": {},
   "outputs": [],
   "source": [
    "import pandas as pd\n",
    "from shapely.geometry import Point\n",
    "import geopandas as gpd\n",
    "from geopandas import GeoDataFrame\n",
    "import requests"
   ]
  },
  {
   "cell_type": "code",
   "execution_count": 2,
   "metadata": {},
   "outputs": [],
   "source": [
    "server = \"https://geo.api.vlaanderen.be/BWD-IdentifiedBathingWaters/ogc/features/collections/BWDBW/items?f=application%2Fgeo%2Bjson\""
   ]
  },
  {
   "cell_type": "code",
   "execution_count": 3,
   "metadata": {},
   "outputs": [],
   "source": [
    "# Azure App Gateway blocks Python requests lib by default\n",
    "response = requests.get(server, headers={\n",
    "    \"User-Agent\": \"Mozilla/5.0 (Macintosh; Intel Mac OS X 10_15_7) AppleWebKit/537.36 (KHTML, like Gecko) Chrome/110.0.0.0 Safari/537.36\"\n",
    "})\n"
   ]
  },
  {
   "cell_type": "code",
   "execution_count": 4,
   "metadata": {},
   "outputs": [
    {
     "ename": "KeyError",
     "evalue": "'features'",
     "output_type": "error",
     "traceback": [
      "\u001b[0;31m---------------------------------------------------------------------------\u001b[0m",
      "\u001b[0;31mKeyError\u001b[0m                                  Traceback (most recent call last)",
      "Cell \u001b[0;32mIn[4], line 1\u001b[0m\n\u001b[0;32m----> 1\u001b[0m data \u001b[39m=\u001b[39m [item[\u001b[39m'\u001b[39m\u001b[39mproperties\u001b[39m\u001b[39m'\u001b[39m] \u001b[39mfor\u001b[39;00m item \u001b[39min\u001b[39;00m response\u001b[39m.\u001b[39;49mjson()[\u001b[39m'\u001b[39;49m\u001b[39mfeatures\u001b[39;49m\u001b[39m'\u001b[39;49m]]\n\u001b[1;32m      2\u001b[0m data\n",
      "\u001b[0;31mKeyError\u001b[0m: 'features'"
     ]
    }
   ],
   "source": [
    "data = [item['properties'] for item in response.json()['features']]\n",
    "data"
   ]
  },
  {
   "cell_type": "code",
   "execution_count": null,
   "metadata": {},
   "outputs": [],
   "source": [
    "encoding = data[0]['COORDSYS']\n",
    "dataSet = [\n",
    "    [\n",
    "        item['BWID'],\n",
    "        item['BWNAME'],\n",
    "        item['LATITUDE'],\n",
    "        item['LONGITUDE'],\n",
    "        item['BWKEY'],\n",
    "    ]\n",
    "    for item in data\n",
    "]\n",
    "dataSetDF = pd.DataFrame(dataSet, columns=[\"id\", \"name\", \"long\", \"lat\", \"place\"])\n",
    "geometry = [Point(x, y) for x, y in zip(dataSetDF['long'], dataSetDF['lat'])]"
   ]
  },
  {
   "cell_type": "code",
   "execution_count": null,
   "metadata": {},
   "outputs": [],
   "source": [
    "gdf = GeoDataFrame(dataSetDF, geometry=geometry).set_index('id')"
   ]
  },
  {
   "cell_type": "code",
   "execution_count": null,
   "metadata": {},
   "outputs": [],
   "source": [
    "gdf = gdf.set_crs(4258)"
   ]
  },
  {
   "cell_type": "code",
   "execution_count": null,
   "metadata": {},
   "outputs": [
    {
     "data": {
      "text/plain": [
       "<Geographic 2D CRS: EPSG:4258>\n",
       "Name: ETRS89\n",
       "Axis Info [ellipsoidal]:\n",
       "- Lat[north]: Geodetic latitude (degree)\n",
       "- Lon[east]: Geodetic longitude (degree)\n",
       "Area of Use:\n",
       "- name: Europe - onshore and offshore: Albania; Andorra; Austria; Belgium; Bosnia and Herzegovina; Bulgaria; Croatia; Cyprus; Czechia; Denmark; Estonia; Faroe Islands; Finland; France; Germany; Gibraltar; Greece; Hungary; Ireland; Italy; Kosovo; Latvia; Liechtenstein; Lithuania; Luxembourg; Malta; Moldova; Monaco; Montenegro; Netherlands; North Macedonia; Norway including Svalbard and Jan Mayen; Poland; Portugal; Romania; San Marino; Serbia; Slovakia; Slovenia; Spain; Sweden; Switzerland; United Kingdom (UK) including Channel Islands and Isle of Man; Vatican City State.\n",
       "- bounds: (-16.1, 32.88, 40.18, 84.73)\n",
       "Datum: European Terrestrial Reference System 1989 ensemble\n",
       "- Ellipsoid: GRS 1980\n",
       "- Prime Meridian: Greenwich"
      ]
     },
     "execution_count": 50,
     "metadata": {},
     "output_type": "execute_result"
    }
   ],
   "source": [
    "gdf.crs"
   ]
  },
  {
   "cell_type": "code",
   "execution_count": null,
   "metadata": {},
   "outputs": [
    {
     "data": {
      "text/html": [
       "<div>\n",
       "<style scoped>\n",
       "    .dataframe tbody tr th:only-of-type {\n",
       "        vertical-align: middle;\n",
       "    }\n",
       "\n",
       "    .dataframe tbody tr th {\n",
       "        vertical-align: top;\n",
       "    }\n",
       "\n",
       "    .dataframe thead th {\n",
       "        text-align: right;\n",
       "    }\n",
       "</style>\n",
       "<table border=\"1\" class=\"dataframe\">\n",
       "  <thead>\n",
       "    <tr style=\"text-align: right;\">\n",
       "      <th></th>\n",
       "      <th>name</th>\n",
       "      <th>long</th>\n",
       "      <th>lat</th>\n",
       "      <th>place</th>\n",
       "      <th>geometry</th>\n",
       "    </tr>\n",
       "    <tr>\n",
       "      <th>id</th>\n",
       "      <th></th>\n",
       "      <th></th>\n",
       "      <th></th>\n",
       "      <th></th>\n",
       "      <th></th>\n",
       "    </tr>\n",
       "  </thead>\n",
       "  <tbody>\n",
       "    <tr>\n",
       "      <th>BEVL_VMM_10</th>\n",
       "      <td>De Panne - Leopold</td>\n",
       "      <td>51.1020</td>\n",
       "      <td>2.5772</td>\n",
       "      <td>De Panne</td>\n",
       "      <td>POINT (51.10200 2.57720)</td>\n",
       "    </tr>\n",
       "    <tr>\n",
       "      <th>BEVL_VMM_100</th>\n",
       "      <td>Koksijde - Duinpark - Oostduinkerke</td>\n",
       "      <td>51.1385</td>\n",
       "      <td>2.6796</td>\n",
       "      <td>Koksijde</td>\n",
       "      <td>POINT (51.13850 2.67960)</td>\n",
       "    </tr>\n",
       "    <tr>\n",
       "      <th>BEVL_VMM_107760</th>\n",
       "      <td>Bocholt - Goolderheide</td>\n",
       "      <td>51.1739</td>\n",
       "      <td>5.5354</td>\n",
       "      <td>Bocholt</td>\n",
       "      <td>POINT (51.17390 5.53540)</td>\n",
       "    </tr>\n",
       "    <tr>\n",
       "      <th>BEVL_VMM_110</th>\n",
       "      <td>Koksijde - Groenendijk - Oostduinkerke</td>\n",
       "      <td>51.1448</td>\n",
       "      <td>2.6996</td>\n",
       "      <td>Koksijde</td>\n",
       "      <td>POINT (51.14480 2.69960)</td>\n",
       "    </tr>\n",
       "    <tr>\n",
       "      <th>BEVL_VMM_115</th>\n",
       "      <td>Nieuwpoort - Leopoldplein</td>\n",
       "      <td>51.1485</td>\n",
       "      <td>2.7080</td>\n",
       "      <td>Nieuwpoort</td>\n",
       "      <td>POINT (51.14850 2.70800)</td>\n",
       "    </tr>\n",
       "    <tr>\n",
       "      <th>...</th>\n",
       "      <td>...</td>\n",
       "      <td>...</td>\n",
       "      <td>...</td>\n",
       "      <td>...</td>\n",
       "      <td>...</td>\n",
       "    </tr>\n",
       "    <tr>\n",
       "      <th>BEVL_VMM_848775</th>\n",
       "      <td>Dessel - Campinastrand</td>\n",
       "      <td>51.2630</td>\n",
       "      <td>5.1362</td>\n",
       "      <td>Dessel</td>\n",
       "      <td>POINT (51.26300 5.13620)</td>\n",
       "    </tr>\n",
       "    <tr>\n",
       "      <th>BEVL_VMM_848795</th>\n",
       "      <td>Mol - Familiestrand Postel</td>\n",
       "      <td>51.2778</td>\n",
       "      <td>5.1569</td>\n",
       "      <td>Mol</td>\n",
       "      <td>POINT (51.27780 5.15690)</td>\n",
       "    </tr>\n",
       "    <tr>\n",
       "      <th>BEVL_VMM_871500</th>\n",
       "      <td>Jabbeke - Klein Strand</td>\n",
       "      <td>51.1860</td>\n",
       "      <td>3.1014</td>\n",
       "      <td>Jabbeke</td>\n",
       "      <td>POINT (51.18600 3.10140)</td>\n",
       "    </tr>\n",
       "    <tr>\n",
       "      <th>BEVL_VMM_87500</th>\n",
       "      <td>Ravels - Tulderheyde</td>\n",
       "      <td>51.4487</td>\n",
       "      <td>5.0883</td>\n",
       "      <td>Ravels</td>\n",
       "      <td>POINT (51.44870 5.08830)</td>\n",
       "    </tr>\n",
       "    <tr>\n",
       "      <th>BEVL_VMM_875460</th>\n",
       "      <td>Brugge - Sint-Pietersplas</td>\n",
       "      <td>51.2329</td>\n",
       "      <td>3.1984</td>\n",
       "      <td>Brugge</td>\n",
       "      <td>POINT (51.23290 3.19840)</td>\n",
       "    </tr>\n",
       "  </tbody>\n",
       "</table>\n",
       "<p>89 rows × 5 columns</p>\n",
       "</div>"
      ],
      "text/plain": [
       "                                                   name     long     lat  \\\n",
       "id                                                                         \n",
       "BEVL_VMM_10                          De Panne - Leopold  51.1020  2.5772   \n",
       "BEVL_VMM_100        Koksijde - Duinpark - Oostduinkerke  51.1385  2.6796   \n",
       "BEVL_VMM_107760                  Bocholt - Goolderheide  51.1739  5.5354   \n",
       "BEVL_VMM_110     Koksijde - Groenendijk - Oostduinkerke  51.1448  2.6996   \n",
       "BEVL_VMM_115                  Nieuwpoort - Leopoldplein  51.1485  2.7080   \n",
       "...                                                 ...      ...     ...   \n",
       "BEVL_VMM_848775                  Dessel - Campinastrand  51.2630  5.1362   \n",
       "BEVL_VMM_848795              Mol - Familiestrand Postel  51.2778  5.1569   \n",
       "BEVL_VMM_871500                  Jabbeke - Klein Strand  51.1860  3.1014   \n",
       "BEVL_VMM_87500                     Ravels - Tulderheyde  51.4487  5.0883   \n",
       "BEVL_VMM_875460               Brugge - Sint-Pietersplas  51.2329  3.1984   \n",
       "\n",
       "                      place                  geometry  \n",
       "id                                                     \n",
       "BEVL_VMM_10        De Panne  POINT (51.10200 2.57720)  \n",
       "BEVL_VMM_100       Koksijde  POINT (51.13850 2.67960)  \n",
       "BEVL_VMM_107760     Bocholt  POINT (51.17390 5.53540)  \n",
       "BEVL_VMM_110       Koksijde  POINT (51.14480 2.69960)  \n",
       "BEVL_VMM_115     Nieuwpoort  POINT (51.14850 2.70800)  \n",
       "...                     ...                       ...  \n",
       "BEVL_VMM_848775      Dessel  POINT (51.26300 5.13620)  \n",
       "BEVL_VMM_848795         Mol  POINT (51.27780 5.15690)  \n",
       "BEVL_VMM_871500     Jabbeke  POINT (51.18600 3.10140)  \n",
       "BEVL_VMM_87500       Ravels  POINT (51.44870 5.08830)  \n",
       "BEVL_VMM_875460      Brugge  POINT (51.23290 3.19840)  \n",
       "\n",
       "[89 rows x 5 columns]"
      ]
     },
     "execution_count": 51,
     "metadata": {},
     "output_type": "execute_result"
    }
   ],
   "source": [
    "gdf.to_crs(4326)"
   ]
  },
  {
   "cell_type": "code",
   "execution_count": null,
   "metadata": {},
   "outputs": [],
   "source": [
    "gdf.to_csv('vlaanderen.csv')"
   ]
  },
  {
   "cell_type": "code",
   "execution_count": null,
   "metadata": {},
   "outputs": [],
   "source": []
  }
 ],
 "metadata": {
  "kernelspec": {
   "display_name": "env",
   "language": "python",
   "name": "python3"
  },
  "language_info": {
   "codemirror_mode": {
    "name": "ipython",
    "version": 3
   },
   "file_extension": ".py",
   "mimetype": "text/x-python",
   "name": "python",
   "nbconvert_exporter": "python",
   "pygments_lexer": "ipython3",
   "version": "3.10.10"
  },
  "orig_nbformat": 4,
  "vscode": {
   "interpreter": {
    "hash": "6896f4621ed418c827cc1c4697cc94477b690e989ff44353709a63db573bca58"
   }
  }
 },
 "nbformat": 4,
 "nbformat_minor": 2
}
