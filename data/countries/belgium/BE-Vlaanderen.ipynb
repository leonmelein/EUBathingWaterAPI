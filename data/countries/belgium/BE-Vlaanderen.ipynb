{
 "cells": [
  {
   "cell_type": "code",
   "execution_count": 22,
   "metadata": {},
   "outputs": [],
   "source": [
    "import pandas as pd\n",
    "from shapely.geometry import Point\n",
    "from geopandas import GeoDataFrame\n",
    "import requests\n",
    "import sqlite3"
   ]
  },
  {
   "cell_type": "code",
   "execution_count": 23,
   "metadata": {},
   "outputs": [],
   "source": [
    "# server = \"https://geo.api.vlaanderen.be/BWD-IdentifiedBathingWaters/ogc/features/collections/BWDBW/items?f=application%2Fgeo%2Bjson\"\n",
    "server = \"https://geo.api.vlaanderen.be/VlaamseZwemwaterlocaties/ogc/features/collections/Vlzwl/items?f=application%2Fgeo%2Bjson\""
   ]
  },
  {
   "cell_type": "code",
   "execution_count": 24,
   "metadata": {},
   "outputs": [],
   "source": [
    "# Azure App Gateway blocks Python requests lib by default\n",
    "response = requests.get(server, headers={\n",
    "    \"User-Agent\": \"Mozilla/5.0 (Macintosh; Intel Mac OS X 10_15_7) AppleWebKit/537.36 (KHTML, like Gecko) Chrome/110.0.0.0 Safari/537.36\"\n",
    "})\n"
   ]
  },
  {
   "cell_type": "code",
   "execution_count": 26,
   "metadata": {},
   "outputs": [
    {
     "data": {
      "text/html": [
       "<div>\n",
       "<style scoped>\n",
       "    .dataframe tbody tr th:only-of-type {\n",
       "        vertical-align: middle;\n",
       "    }\n",
       "\n",
       "    .dataframe tbody tr th {\n",
       "        vertical-align: top;\n",
       "    }\n",
       "\n",
       "    .dataframe thead th {\n",
       "        text-align: right;\n",
       "    }\n",
       "</style>\n",
       "<table border=\"1\" class=\"dataframe\">\n",
       "  <thead>\n",
       "    <tr style=\"text-align: right;\">\n",
       "      <th></th>\n",
       "      <th>name</th>\n",
       "      <th>alternate_name</th>\n",
       "      <th>lat</th>\n",
       "      <th>long</th>\n",
       "    </tr>\n",
       "    <tr>\n",
       "      <th>id</th>\n",
       "      <th></th>\n",
       "      <th></th>\n",
       "      <th></th>\n",
       "      <th></th>\n",
       "    </tr>\n",
       "  </thead>\n",
       "  <tbody>\n",
       "    <tr>\n",
       "      <th>BEVL_BW_BLA02</th>\n",
       "      <td>Blankenberge Weststraat</td>\n",
       "      <td>Blankenberge Weststraat</td>\n",
       "      <td>51.316490</td>\n",
       "      <td>3.120356</td>\n",
       "    </tr>\n",
       "    <tr>\n",
       "      <th>BEVL_BW_BLA04</th>\n",
       "      <td>Blankenberge Kerkstraat</td>\n",
       "      <td>Blankenberge Kerkstraat</td>\n",
       "      <td>51.318140</td>\n",
       "      <td>3.127011</td>\n",
       "    </tr>\n",
       "    <tr>\n",
       "      <th>BEVL_BW_BLA06</th>\n",
       "      <td>Blankenberge Artanhelling</td>\n",
       "      <td>Blankenberge Artanhelling</td>\n",
       "      <td>51.320070</td>\n",
       "      <td>3.134678</td>\n",
       "    </tr>\n",
       "    <tr>\n",
       "      <th>BEVL_BW_BLE01</th>\n",
       "      <td>Berlare Nieuwdonk</td>\n",
       "      <td>Berlare Nieuwdonk</td>\n",
       "      <td>51.035760</td>\n",
       "      <td>3.970350</td>\n",
       "    </tr>\n",
       "    <tr>\n",
       "      <th>BEVL_BW_BRE01</th>\n",
       "      <td>Bredene Turkeyen</td>\n",
       "      <td>Bredene Turkeyen</td>\n",
       "      <td>51.248490</td>\n",
       "      <td>2.952251</td>\n",
       "    </tr>\n",
       "    <tr>\n",
       "      <th>...</th>\n",
       "      <td>...</td>\n",
       "      <td>...</td>\n",
       "      <td>...</td>\n",
       "      <td>...</td>\n",
       "    </tr>\n",
       "    <tr>\n",
       "      <th>BEVL_BW_MEC03</th>\n",
       "      <td>Mechelen Keerdok</td>\n",
       "      <td>Mechelen Keerdok</td>\n",
       "      <td>51.032870</td>\n",
       "      <td>4.470210</td>\n",
       "    </tr>\n",
       "    <tr>\n",
       "      <th>BEVL_BW_IEP01</th>\n",
       "      <td>Ieper Dikkebusvijver</td>\n",
       "      <td>Ieper Dikkebusvijver</td>\n",
       "      <td>50.821564</td>\n",
       "      <td>2.847248</td>\n",
       "    </tr>\n",
       "    <tr>\n",
       "      <th>BEVL_BW_LIR01</th>\n",
       "      <td>Lier Anderstad</td>\n",
       "      <td>Lier Anderstad</td>\n",
       "      <td>51.114790</td>\n",
       "      <td>4.548050</td>\n",
       "    </tr>\n",
       "    <tr>\n",
       "      <th>BEVL_BW_LOM02</th>\n",
       "      <td>Lommel Barefoot Beach</td>\n",
       "      <td>Lommel Barefoot Beach</td>\n",
       "      <td>51.244975</td>\n",
       "      <td>5.366109</td>\n",
       "    </tr>\n",
       "    <tr>\n",
       "      <th>BEVL_BW_BRU06</th>\n",
       "      <td>Brugge Koude Keuken</td>\n",
       "      <td>Brugge Koude Keuken</td>\n",
       "      <td>51.204210</td>\n",
       "      <td>3.182890</td>\n",
       "    </tr>\n",
       "  </tbody>\n",
       "</table>\n",
       "<p>99 rows × 4 columns</p>\n",
       "</div>"
      ],
      "text/plain": [
       "                                    name             alternate_name  \\\n",
       "id                                                                    \n",
       "BEVL_BW_BLA02    Blankenberge Weststraat    Blankenberge Weststraat   \n",
       "BEVL_BW_BLA04    Blankenberge Kerkstraat    Blankenberge Kerkstraat   \n",
       "BEVL_BW_BLA06  Blankenberge Artanhelling  Blankenberge Artanhelling   \n",
       "BEVL_BW_BLE01          Berlare Nieuwdonk          Berlare Nieuwdonk   \n",
       "BEVL_BW_BRE01           Bredene Turkeyen           Bredene Turkeyen   \n",
       "...                                  ...                        ...   \n",
       "BEVL_BW_MEC03           Mechelen Keerdok           Mechelen Keerdok   \n",
       "BEVL_BW_IEP01       Ieper Dikkebusvijver       Ieper Dikkebusvijver   \n",
       "BEVL_BW_LIR01             Lier Anderstad             Lier Anderstad   \n",
       "BEVL_BW_LOM02      Lommel Barefoot Beach      Lommel Barefoot Beach   \n",
       "BEVL_BW_BRU06        Brugge Koude Keuken        Brugge Koude Keuken   \n",
       "\n",
       "                     lat      long  \n",
       "id                                  \n",
       "BEVL_BW_BLA02  51.316490  3.120356  \n",
       "BEVL_BW_BLA04  51.318140  3.127011  \n",
       "BEVL_BW_BLA06  51.320070  3.134678  \n",
       "BEVL_BW_BLE01  51.035760  3.970350  \n",
       "BEVL_BW_BRE01  51.248490  2.952251  \n",
       "...                  ...       ...  \n",
       "BEVL_BW_MEC03  51.032870  4.470210  \n",
       "BEVL_BW_IEP01  50.821564  2.847248  \n",
       "BEVL_BW_LIR01  51.114790  4.548050  \n",
       "BEVL_BW_LOM02  51.244975  5.366109  \n",
       "BEVL_BW_BRU06  51.204210  3.182890  \n",
       "\n",
       "[99 rows x 4 columns]"
      ]
     },
     "execution_count": 26,
     "metadata": {},
     "output_type": "execute_result"
    }
   ],
   "source": [
    "df = pd\\\n",
    "    .json_normalize(response.json()['features'])\\\n",
    "    .drop(columns=['id', 'type', 'geometry_name', 'bbox', 'geometry.type', 'geometry.coordinates', 'properties.OIDN', 'properties.UIDN', 'properties.CYEAR', 'properties.NAMESPACE', 'properties.VERSIONID', 'properties.BEGINLIFE', 'properties.LOCALID', 'properties.ENDLIFE', 'properties.PREDECESID', 'properties.PREDEIDSCH', 'properties.SUCCESSOID', 'properties.SUCCEIDSCH', 'properties.WEVOLUTION', 'properties.NAMETXTLAN', 'properties.DESIGBEGIN', 'properties.DESIGEND', 'properties.ZONETYPE', 'properties.SPZONETYPE', 'properties.RZONEID', 'properties.RZONEIDSCH', 'properties.LEGISNAME', 'properties.LEGISLINK', 'properties.LEGISLEVEL', 'properties.THEMAIDSCH', 'properties.SIZEVALUE', 'properties.SIZEUOM', 'properties.CONFSTATUS', 'properties.LINKKWL', 'properties.STATUSCODE', 'properties.STATUSDATE', 'properties.REMARKS', 'properties.COUNTRY', 'properties.QCCHECK', 'properties.REMARKS2', 'properties.OPMERKINGE'])\\\n",
    "    .rename(columns={'properties.THEMATICID': 'id', 'properties.NAMETEXT': 'name', 'properties.NAMETXTINT': 'alternate_name', 'properties.LON': 'long', 'properties.LAT': 'lat'})\\\n",
    "    .set_index('id')\n",
    "df['alternate_name'] = df['alternate_name'].str.title()\n",
    "df['name'] = df['name'].str.title()\n",
    "locations = df[['name', 'alternate_name', 'lat', 'long']]\n",
    "locations"
   ]
  },
  {
   "cell_type": "code",
   "execution_count": 27,
   "metadata": {},
   "outputs": [
    {
     "data": {
      "text/plain": [
       "99"
      ]
     },
     "execution_count": 27,
     "metadata": {},
     "output_type": "execute_result"
    }
   ],
   "source": [
    "db = sqlite3.connect(\"../dataset.sqlite3\")\n",
    "locations.to_sql(\"locations\", db, if_exists=\"append\")\n"
   ]
  },
  {
   "cell_type": "code",
   "execution_count": null,
   "metadata": {},
   "outputs": [],
   "source": []
  }
 ],
 "metadata": {
  "kernelspec": {
   "display_name": "env",
   "language": "python",
   "name": "python3"
  },
  "language_info": {
   "codemirror_mode": {
    "name": "ipython",
    "version": 3
   },
   "file_extension": ".py",
   "mimetype": "text/x-python",
   "name": "python",
   "nbconvert_exporter": "python",
   "pygments_lexer": "ipython3",
   "version": "3.12.1"
  },
  "orig_nbformat": 4,
  "vscode": {
   "interpreter": {
    "hash": "6896f4621ed418c827cc1c4697cc94477b690e989ff44353709a63db573bca58"
   }
  }
 },
 "nbformat": 4,
 "nbformat_minor": 2
}
