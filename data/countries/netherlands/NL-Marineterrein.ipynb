{
 "cells": [
  {
   "cell_type": "code",
   "execution_count": 1,
   "metadata": {},
   "outputs": [],
   "source": [
    "import requests\n",
    "import uuid\n",
    "import pandas as pd\n",
    "import sqlite3\n",
    "\n",
    "name = \"Marineterrein\"\n",
    "id = str(uuid.uuid5(uuid.NAMESPACE_DNS, name))\n",
    "lat, long = 52.372861, 4.915187\n",
    "\n",
    "server = \"https://www.marineterrein.nl/wp-json/mtnc/v1/sensors\"\n"
   ]
  },
  {
   "cell_type": "code",
   "execution_count": 2,
   "metadata": {},
   "outputs": [],
   "source": [
    "response = requests.get(server).json()\n",
    "quality, temp = response['waterkwaliteit'], response['watertemperatuur']"
   ]
  },
  {
   "cell_type": "code",
   "execution_count": 3,
   "metadata": {},
   "outputs": [
    {
     "data": {
      "text/html": [
       "<div>\n",
       "<style scoped>\n",
       "    .dataframe tbody tr th:only-of-type {\n",
       "        vertical-align: middle;\n",
       "    }\n",
       "\n",
       "    .dataframe tbody tr th {\n",
       "        vertical-align: top;\n",
       "    }\n",
       "\n",
       "    .dataframe thead th {\n",
       "        text-align: right;\n",
       "    }\n",
       "</style>\n",
       "<table border=\"1\" class=\"dataframe\">\n",
       "  <thead>\n",
       "    <tr style=\"text-align: right;\">\n",
       "      <th></th>\n",
       "      <th>status</th>\n",
       "      <th>timestamp</th>\n",
       "      <th>temperature</th>\n",
       "    </tr>\n",
       "    <tr>\n",
       "      <th>id</th>\n",
       "      <th></th>\n",
       "      <th></th>\n",
       "      <th></th>\n",
       "    </tr>\n",
       "  </thead>\n",
       "  <tbody>\n",
       "    <tr>\n",
       "      <th>5bb60ddb-a0a0-54ac-a2b3-c647ddd1933f</th>\n",
       "      <td>goed</td>\n",
       "      <td>2024-01-27T21:00:11.075903</td>\n",
       "      <td>5.1</td>\n",
       "    </tr>\n",
       "  </tbody>\n",
       "</table>\n",
       "</div>"
      ],
      "text/plain": [
       "                                     status                   timestamp  \\\n",
       "id                                                                        \n",
       "5bb60ddb-a0a0-54ac-a2b3-c647ddd1933f   goed  2024-01-27T21:00:11.075903   \n",
       "\n",
       "                                     temperature  \n",
       "id                                                \n",
       "5bb60ddb-a0a0-54ac-a2b3-c647ddd1933f         5.1  "
      ]
     },
     "execution_count": 3,
     "metadata": {},
     "output_type": "execute_result"
    }
   ],
   "source": [
    "# data = pd.DataFrame(\n",
    "#     [[zwemwaterlocatie_id, naam, response['waterkwaliteit'],\n",
    "#         \"nieuwe zwemlocatie (niet-officieël, wel gemonitord)\", None, currentTime, None, currentTime]],\n",
    "#     columns=[\"id\", \"naam\", \"status\", \"historie\", \"e_coli\", \"e_coli_datum\", \"int_ent\", \"int_ent_datum\"]\n",
    "# ).set_index(\"zwemwaterlocatie_id\")\n",
    "\n",
    "locations = pd.DataFrame(\n",
    "    [[id, name, name, lat, long]],\n",
    "    columns=[\"id\", \"name\", \"alternate_name\", \"lat\", \"long\"]\n",
    ").set_index(\"id\")\n",
    "\n",
    "status = pd.DataFrame(\n",
    "    [[id, quality, pd.Timestamp(\"now\").isoformat(), temp]],\n",
    "    columns=[\"id\", \"status\", \"timestamp\", \"temperature\"]\n",
    ").set_index(\"id\")\n",
    "status"
   ]
  },
  {
   "cell_type": "code",
   "execution_count": 4,
   "metadata": {},
   "outputs": [
    {
     "data": {
      "text/plain": [
       "1"
      ]
     },
     "execution_count": 4,
     "metadata": {},
     "output_type": "execute_result"
    }
   ],
   "source": [
    "db = sqlite3.connect(\"../dataset.sqlite3\")\n",
    "locations.to_sql(\"locations\", db, if_exists=\"append\")\n",
    "status.to_sql(\"status\", db, if_exists=\"append\")\n"
   ]
  }
 ],
 "metadata": {
  "kernelspec": {
   "display_name": "env",
   "language": "python",
   "name": "python3"
  },
  "language_info": {
   "codemirror_mode": {
    "name": "ipython",
    "version": 3
   },
   "file_extension": ".py",
   "mimetype": "text/x-python",
   "name": "python",
   "nbconvert_exporter": "python",
   "pygments_lexer": "ipython3",
   "version": "3.12.1"
  },
  "orig_nbformat": 4,
  "vscode": {
   "interpreter": {
    "hash": "6896f4621ed418c827cc1c4697cc94477b690e989ff44353709a63db573bca58"
   }
  }
 },
 "nbformat": 4,
 "nbformat_minor": 2
}
