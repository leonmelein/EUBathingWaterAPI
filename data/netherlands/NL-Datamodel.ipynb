{
 "cells": [
  {
   "cell_type": "code",
   "execution_count": null,
   "metadata": {},
   "outputs": [],
   "source": [
    "import geopandas as gpd\n",
    "from requests import Request\n",
    "from owslib.wfs import WebFeatureService"
   ]
  },
  {
   "cell_type": "code",
   "execution_count": null,
   "metadata": {},
   "outputs": [],
   "source": [
    "url = \"https://pubgeo.zwemwater.nl/geoserver/zwr_public/wfs\"\n",
    "wfs = WebFeatureService(url=url)"
   ]
  },
  {
   "cell_type": "code",
   "execution_count": null,
   "metadata": {},
   "outputs": [],
   "source": [
    "def load_wfs_layer(layer_name):\n",
    "    params = dict(service='WFS', version=\"2.0.0\", request='GetFeature',\n",
    "      typeName=layer_name, outputFormat='json', srsName=\"EPSG:4326\")\n",
    "    wfs_request_url = Request('GET', url, params=params).prepare().url\n",
    "    return gpd.read_file(wfs_request_url)"
   ]
  },
  {
   "cell_type": "markdown",
   "metadata": {},
   "source": [
    "## Zwemplekken"
   ]
  },
  {
   "cell_type": "code",
   "execution_count": null,
   "metadata": {},
   "outputs": [],
   "source": [
    "zwemplekken = load_wfs_layer(\"zwr_public:zwemplekken\")\n",
    "zwemplekken = zwemplekken.drop(columns=['id', 'datum']).drop_duplicates(subset=[\"zwemwaterlocatie_id\"]).set_index('key_id')\n",
    "zwemplekken"
   ]
  },
  {
   "cell_type": "code",
   "execution_count": null,
   "metadata": {},
   "outputs": [],
   "source": [
    "zwemplekken_details = load_wfs_layer(\"zwr_public:zwemplekken_details\")\n",
    "zwemplekken_details = zwemplekken_details.drop(columns=[\"id\", \"info_id\", \"geometry\", \"datum\"])\n",
    "zwemplekken_details"
   ]
  },
  {
   "cell_type": "code",
   "execution_count": null,
   "metadata": {},
   "outputs": [],
   "source": [
    "base_data = zwemplekken_details.copy()\n",
    "base_data = base_data[[\"zwemwaterlocatie_id\", \"naam\", \"korte_naam\", \"status\", \"tekst\", \"info_filename\", \"website\"]]\n",
    "base_data"
   ]
  },
  {
   "cell_type": "code",
   "execution_count": null,
   "metadata": {},
   "outputs": [],
   "source": [
    "zwemplekdata = zwemplekken.merge(base_data, left_on=\"zwemwaterlocatie_id\", right_on=\"zwemwaterlocatie_id\", how=\"left\")\n",
    "zwemplekdata['lat'] = zwemplekdata['geometry'].y\n",
    "zwemplekdata['lon'] = zwemplekdata['geometry'].x\n",
    "zwemplekdata = zwemplekdata.drop(columns=[\"korte_naam_x\", \"naam_x\", \"status_x\", \"geometry\"])\n",
    "zwemplekdata = zwemplekdata.rename(columns={\n",
    "    \"naam_y\": \"naam\",\n",
    "    \"korte_naam_y\": \"korte_naam\",\n",
    "    \"status_y\": \"status\"\n",
    "})\n",
    "zwemplekdata.sort_values(by=[\"naam\"], inplace=True)\n",
    "zwemplekdata"
   ]
  },
  {
   "cell_type": "code",
   "execution_count": null,
   "metadata": {},
   "outputs": [],
   "source": [
    "eu_designations = load_wfs_layer(\"zwr_public:eustatussen\")\n",
    "eu_designations = eu_designations[eu_designations['jaar'] == 2023].drop(columns=['type_eu_status_id', 'geometry', 'omschrijving', 'id'])\n",
    "eu_designations"
   ]
  },
  {
   "cell_type": "code",
   "execution_count": null,
   "metadata": {},
   "outputs": [],
   "source": [
    "eu_current_designations = eu_designations.query(\"jaar == 2023\")\n",
    "eu_current_designations = eu_current_designations.drop(columns=[\"key_id\", \"jaar\"])\n",
    "eu_current_designations\n",
    "data = zwemplekdata.merge(eu_current_designations, left_on=\"zwemwaterlocatie_id\", right_on=\"zwemwaterlocatie_id\", how=\"left\")\n",
    "data.fillna({'code': 0}, inplace=True)\n",
    "data"
   ]
  },
  {
   "cell_type": "code",
   "execution_count": null,
   "metadata": {},
   "outputs": [],
   "source": [
    "measurements = load_wfs_layer(\"zwr_public:resultaatsen\")\n",
    "measurements = measurements.drop(columns=['id', 'datum_geplande_monstername', 'monitoring_datum_id', 'monitoring_plan_id', 'monster_id', 'type_object_id', 'geometry'])\n",
    "measurements = measurements.sort_values([\"zwemwaterlocatie_id\", \"object_begin_tijd\", \"type_object_code\"])\n",
    "measurements = measurements.drop_duplicates(subset=[\"zwemwaterlocatie_id\", \"type_object_code\"], keep=\"last\")\n",
    "measurements\n"
   ]
  },
  {
   "cell_type": "code",
   "execution_count": null,
   "metadata": {},
   "outputs": [],
   "source": [
    "measure = measurements.pivot_table(values='numerieke_waarde', index='zwemwaterlocatie_id', columns='type_object_code')\n",
    "measure"
   ]
  },
  {
   "cell_type": "code",
   "execution_count": null,
   "metadata": {},
   "outputs": [],
   "source": [
    "data = data.merge(measure, on=\"zwemwaterlocatie_id\", how=\"left\")\n",
    "data"
   ]
  },
  {
   "cell_type": "code",
   "execution_count": null,
   "metadata": {},
   "outputs": [],
   "source": [
    "zwemplek_voorziening = load_wfs_layer(\"zwr_public:zwemplek_voorziening\")\n",
    "zwemplek_voorziening"
   ]
  },
  {
   "cell_type": "code",
   "execution_count": null,
   "metadata": {},
   "outputs": [],
   "source": [
    "voorzieningen = zwemplek_voorziening.groupby('zwemwaterlocatie_id')['voorziening_type_id'].agg(list).reset_index()\n",
    "voorzieningen"
   ]
  },
  {
   "cell_type": "code",
   "execution_count": null,
   "metadata": {},
   "outputs": [],
   "source": [
    "data = data.merge(voorzieningen, on=\"zwemwaterlocatie_id\", how=\"left\")\n",
    "data.rename(columns={\n",
    "    \"naam\": \"name\",\n",
    "    \"korte_naam\": \"alternate_name\",\n",
    "    \"status\": \"current_status\",\n",
    "    \"tekst\": \"description\",\n",
    "    \"info_filename\": \"photos\",\n",
    "    \"code\": \"eu_designation\",\n",
    "    \"E_COLI\": \"e_coli\",\n",
    "    \"INTTNLETRCCN\": \"int_ent\",\n",
    "    \"voorziening_type_id\": \"voorzieningen\"\n",
    "}, inplace=True)\n",
    "data.set_index(\"zwemwaterlocatie_id\", inplace=True)\n",
    "data"
   ]
  },
  {
   "cell_type": "markdown",
   "metadata": {},
   "source": [
    "# Voorzieningen"
   ]
  },
  {
   "cell_type": "code",
   "execution_count": null,
   "metadata": {},
   "outputs": [],
   "source": [
    "unique_amenities = zwemplek_voorziening.copy()\n",
    "unique_amenities = unique_amenities.drop_duplicates(\"code\").drop(columns=['id', 'taal', 'zwemplek_id', 'zwemwaterlocatie_id', 'geometry'])\n",
    "unique_amenities = unique_amenities[['voorziening_type_id', 'omschrijving', 'groep']].set_index('voorziening_type_id')\n",
    "unique_amenities"
   ]
  },
  {
   "cell_type": "markdown",
   "metadata": {},
   "source": [
    "## EU Designations"
   ]
  },
  {
   "cell_type": "markdown",
   "metadata": {},
   "source": [
    "## Measurements"
   ]
  },
  {
   "cell_type": "code",
   "execution_count": null,
   "metadata": {},
   "outputs": [],
   "source": [
    "measurements = load_wfs_layer(\"zwr_public:resultaatsen\")\n",
    "measurements = measurements.drop(columns=['id', 'datum_geplande_monstername', 'monitoring_datum_id', 'monitoring_plan_id', 'monster_id', 'type_object_id', 'geometry'])\n",
    "measurements"
   ]
  },
  {
   "cell_type": "code",
   "execution_count": null,
   "metadata": {},
   "outputs": [],
   "source": [
    "measurements.dtypes"
   ]
  },
  {
   "cell_type": "code",
   "execution_count": null,
   "metadata": {},
   "outputs": [],
   "source": [
    "measurements = measurements.sort_values([\"zwemwaterlocatie_id\", \"object_begin_tijd\", \"type_object_code\"])\n",
    "measurements = measurements.drop_duplicates(subset=[\"zwemwaterlocatie_id\", \"type_object_code\"], keep=\"first\")\n",
    "measurements"
   ]
  },
  {
   "cell_type": "markdown",
   "metadata": {},
   "source": [
    "## Preventative measures"
   ]
  },
  {
   "cell_type": "code",
   "execution_count": null,
   "metadata": {},
   "outputs": [],
   "source": [
    "preventative_measures = load_wfs_layer(\"zwr_public:zwemplek_maatregel\")\n",
    "preventative_measures = preventative_measures.drop(columns=['id', 'bw_code', 'object_type', 'toelichtingstandaardextended', 'type', 'geometry', 'zwemplek_naam'])\n",
    "preventative_measures"
   ]
  },
  {
   "cell_type": "code",
   "execution_count": null,
   "metadata": {},
   "outputs": [],
   "source": [
    "unique_prevention_codes = preventative_measures.drop_duplicates('toelichtingstandaard')\n",
    "unique_prevention_codes['toelichtingstandaard']"
   ]
  },
  {
   "cell_type": "code",
   "execution_count": null,
   "metadata": {},
   "outputs": [],
   "source": [
    "messages = preventative_measures.dropna(subset=['toelichtingpubliek'])\n",
    "messages = messages[['zwemwaterlocatie_id', 'toelichtingpubliek']]\n",
    "messages"
   ]
  },
  {
   "cell_type": "code",
   "execution_count": null,
   "metadata": {},
   "outputs": [],
   "source": [
    "locs = load_wfs_layer(\"zwr_public:zwemwaterlocaties\")\n",
    "locs = locs.drop(columns=[\"id\", \"datum\", \"objecttype\", \"zwl_acht_info\"])\n",
    "locs"
   ]
  },
  {
   "cell_type": "markdown",
   "metadata": {},
   "source": [
    "## Datamodel"
   ]
  }
 ],
 "metadata": {
  "kernelspec": {
   "display_name": "env",
   "language": "python",
   "name": "python3"
  },
  "language_info": {
   "codemirror_mode": {
    "name": "ipython",
    "version": 3
   },
   "file_extension": ".py",
   "mimetype": "text/x-python",
   "name": "python",
   "nbconvert_exporter": "python",
   "pygments_lexer": "ipython3",
   "version": "3.12.4"
  }
 },
 "nbformat": 4,
 "nbformat_minor": 2
}
