{
 "cells": [
  {
   "cell_type": "code",
   "execution_count": 1,
   "metadata": {},
   "outputs": [],
   "source": [
    "import requests\n",
    "import uuid\n",
    "import pandas as pd\n",
    "import sqlite3\n",
    "\n",
    "name = \"Sloterplas\"\n",
    "id = str(uuid.uuid5(uuid.NAMESPACE_DNS, name))\n",
    "lat, long = 52.3712858,4.8242057\n"
   ]
  },
  {
   "cell_type": "code",
   "execution_count": 2,
   "metadata": {},
   "outputs": [
    {
     "data": {
      "text/html": [
       "<div>\n",
       "<style scoped>\n",
       "    .dataframe tbody tr th:only-of-type {\n",
       "        vertical-align: middle;\n",
       "    }\n",
       "\n",
       "    .dataframe tbody tr th {\n",
       "        vertical-align: top;\n",
       "    }\n",
       "\n",
       "    .dataframe thead th {\n",
       "        text-align: right;\n",
       "    }\n",
       "</style>\n",
       "<table border=\"1\" class=\"dataframe\">\n",
       "  <thead>\n",
       "    <tr style=\"text-align: right;\">\n",
       "      <th></th>\n",
       "      <th>name</th>\n",
       "      <th>alternate_name</th>\n",
       "      <th>lat</th>\n",
       "      <th>long</th>\n",
       "    </tr>\n",
       "    <tr>\n",
       "      <th>id</th>\n",
       "      <th></th>\n",
       "      <th></th>\n",
       "      <th></th>\n",
       "      <th></th>\n",
       "    </tr>\n",
       "  </thead>\n",
       "  <tbody>\n",
       "    <tr>\n",
       "      <th>48da68d1-e6af-53df-961a-dfc6598035d5</th>\n",
       "      <td>Sloterplas</td>\n",
       "      <td>Sloterplas</td>\n",
       "      <td>52.371654</td>\n",
       "      <td>4.815303</td>\n",
       "    </tr>\n",
       "  </tbody>\n",
       "</table>\n",
       "</div>"
      ],
      "text/plain": [
       "                                            name alternate_name        lat  \\\n",
       "id                                                                           \n",
       "48da68d1-e6af-53df-961a-dfc6598035d5  Sloterplas     Sloterplas  52.371654   \n",
       "\n",
       "                                          long  \n",
       "id                                              \n",
       "48da68d1-e6af-53df-961a-dfc6598035d5  4.815303  "
      ]
     },
     "execution_count": 2,
     "metadata": {},
     "output_type": "execute_result"
    }
   ],
   "source": [
    "locations = pd.DataFrame(\n",
    "    [[id, name, name, lat, long]],\n",
    "    columns=[\"id\", \"name\", \"alternate_name\", \"lat\", \"long\"]\n",
    ").set_index(\"id\")\n",
    "locations"
   ]
  },
  {
   "cell_type": "code",
   "execution_count": 3,
   "metadata": {},
   "outputs": [
    {
     "data": {
      "text/plain": [
       "1"
      ]
     },
     "execution_count": 3,
     "metadata": {},
     "output_type": "execute_result"
    }
   ],
   "source": [
    "db = sqlite3.connect(\"../dataset.sqlite3\")\n",
    "locations.to_sql(\"locations\", db, if_exists=\"append\")\n"
   ]
  },
  {
   "cell_type": "code",
   "execution_count": null,
   "metadata": {},
   "outputs": [],
   "source": []
  }
 ],
 "metadata": {
  "kernelspec": {
   "display_name": "env",
   "language": "python",
   "name": "python3"
  },
  "language_info": {
   "codemirror_mode": {
    "name": "ipython",
    "version": 3
   },
   "file_extension": ".py",
   "mimetype": "text/x-python",
   "name": "python",
   "nbconvert_exporter": "python",
   "pygments_lexer": "ipython3",
   "version": "3.12.1"
  },
  "orig_nbformat": 4,
  "vscode": {
   "interpreter": {
    "hash": "6896f4621ed418c827cc1c4697cc94477b690e989ff44353709a63db573bca58"
   }
  }
 },
 "nbformat": 4,
 "nbformat_minor": 2
}
