{
 "cells": [
  {
   "cell_type": "code",
   "execution_count": 1,
   "metadata": {},
   "outputs": [],
   "source": [
    "from bs4 import BeautifulSoup\n",
    "from datetime import datetime\n",
    "import requests\n",
    "import uuid\n",
    "import pandas as pd\n",
    "import sqlite3\n",
    "\n",
    "name = \"Sloterplas\"\n",
    "id = str(uuid.uuid5(uuid.NAMESPACE_DNS, name))\n",
    "lat, long = 52.3712858,4.8242057\n",
    "description = \"Het Sloterstrand is gelegen in de gemeente Amsterdam, in het stadsdeel Nieuw West. De plas is in zijn huidige vorm in de jaren vijftig door zandwinning ontstaan, beslaat 89 hectare en is maximaal circa 35 meter diep. Aan de west- en oostzijde van de plas liggen stadsparken. De oevers rondom het Sloterstrand zijn verschillend van aard. Aan de zuidzijde (langs de Lelylaan en het Osdorpplein) en aan de noordoostzijde (bij het paviljoen) is een hoge en harde oever waarlangs geen enkele plantengroei aanwezig is. Aan de zuidrand wordt het strand begrensd door een brede boulevard met bankjes. Vooral aan de oostkant van de plas en in mindere mate ook bij het westelijke parkgebied zijn meer natuurlijke oevers met een begroeiing.\"\n",
    "url = \"https://www.amsterdam.nl/toerisme-vrije-tijd/parken/sloterpark/waterkwaliteit-sloterplas/\""
   ]
  },
  {
   "cell_type": "code",
   "execution_count": 2,
   "metadata": {},
   "outputs": [
    {
     "data": {
      "text/html": [
       "<div>\n",
       "<style scoped>\n",
       "    .dataframe tbody tr th:only-of-type {\n",
       "        vertical-align: middle;\n",
       "    }\n",
       "\n",
       "    .dataframe tbody tr th {\n",
       "        vertical-align: top;\n",
       "    }\n",
       "\n",
       "    .dataframe thead th {\n",
       "        text-align: right;\n",
       "    }\n",
       "</style>\n",
       "<table border=\"1\" class=\"dataframe\">\n",
       "  <thead>\n",
       "    <tr style=\"text-align: right;\">\n",
       "      <th></th>\n",
       "      <th>name</th>\n",
       "      <th>alternate_name</th>\n",
       "      <th>description</th>\n",
       "      <th>url</th>\n",
       "      <th>lat</th>\n",
       "      <th>long</th>\n",
       "    </tr>\n",
       "    <tr>\n",
       "      <th>id</th>\n",
       "      <th></th>\n",
       "      <th></th>\n",
       "      <th></th>\n",
       "      <th></th>\n",
       "      <th></th>\n",
       "      <th></th>\n",
       "    </tr>\n",
       "  </thead>\n",
       "  <tbody>\n",
       "    <tr>\n",
       "      <th>48da68d1-e6af-53df-961a-dfc6598035d5</th>\n",
       "      <td>Sloterplas</td>\n",
       "      <td>Sloterplas</td>\n",
       "      <td>Het Sloterstrand is gelegen in de gemeente Ams...</td>\n",
       "      <td>https://www.amsterdam.nl/toerisme-vrije-tijd/p...</td>\n",
       "      <td>52.371286</td>\n",
       "      <td>4.824206</td>\n",
       "    </tr>\n",
       "  </tbody>\n",
       "</table>\n",
       "</div>"
      ],
      "text/plain": [
       "                                            name alternate_name  \\\n",
       "id                                                                \n",
       "48da68d1-e6af-53df-961a-dfc6598035d5  Sloterplas     Sloterplas   \n",
       "\n",
       "                                                                            description  \\\n",
       "id                                                                                        \n",
       "48da68d1-e6af-53df-961a-dfc6598035d5  Het Sloterstrand is gelegen in de gemeente Ams...   \n",
       "\n",
       "                                                                                    url  \\\n",
       "id                                                                                        \n",
       "48da68d1-e6af-53df-961a-dfc6598035d5  https://www.amsterdam.nl/toerisme-vrije-tijd/p...   \n",
       "\n",
       "                                            lat      long  \n",
       "id                                                         \n",
       "48da68d1-e6af-53df-961a-dfc6598035d5  52.371286  4.824206  "
      ]
     },
     "execution_count": 2,
     "metadata": {},
     "output_type": "execute_result"
    }
   ],
   "source": [
    "locations = pd.DataFrame(\n",
    "    [[id, name, name, description, url, lat, long]],\n",
    "    columns=[\"id\", \"name\", \"alternate_name\", \"description\", \"url\", \"lat\", \"long\"]\n",
    ").set_index(\"id\")\n",
    "locations"
   ]
  },
  {
   "cell_type": "code",
   "execution_count": 49,
   "metadata": {},
   "outputs": [],
   "source": [
    "# db = sqlite3.connect(\"../dataset.sqlite3\")\n",
    "# locations.to_sql(\"locations\", db, if_exists=\"append\")\n"
   ]
  },
  {
   "cell_type": "code",
   "execution_count": 3,
   "metadata": {},
   "outputs": [
    {
     "data": {
      "text/plain": [
       "'11 juli 2024'"
      ]
     },
     "execution_count": 3,
     "metadata": {},
     "output_type": "execute_result"
    }
   ],
   "source": [
    "page = requests.get(\"https://www.amsterdam.nl/toerisme-vrije-tijd/parken/sloterpark/waterkwaliteit-sloterplas/\")\n",
    "soup = BeautifulSoup(page.text)\n",
    "currentMeasurements = soup.find(\"table\")\n",
    "date = currentMeasurements.find_all(\"th\")[2].get_text()\n",
    "date = f\"{date} {datetime.now().year}\"\n",
    "date"
   ]
  },
  {
   "cell_type": "code",
   "execution_count": 4,
   "metadata": {},
   "outputs": [],
   "source": [
    "eColi = currentMeasurements.find_all(\"tr\")[1].find_all(\"td\")[2].get_text()\n",
    "intEnt = currentMeasurements.find_all(\"tr\")[2].find_all(\"td\")[2].get_text()\n",
    "blueAlg = currentMeasurements.find_all(\"tr\")[3].find_all(\"td\")[2].get_text()"
   ]
  },
  {
   "cell_type": "code",
   "execution_count": 5,
   "metadata": {},
   "outputs": [
    {
     "name": "stdout",
     "output_type": "stream",
     "text": [
      "11 juli 2024 969 93 6.1\n"
     ]
    }
   ],
   "source": [
    "print(date, eColi, intEnt, blueAlg)"
   ]
  },
  {
   "cell_type": "code",
   "execution_count": null,
   "metadata": {},
   "outputs": [],
   "source": []
  }
 ],
 "metadata": {
  "kernelspec": {
   "display_name": "env",
   "language": "python",
   "name": "python3"
  },
  "language_info": {
   "codemirror_mode": {
    "name": "ipython",
    "version": 3
   },
   "file_extension": ".py",
   "mimetype": "text/x-python",
   "name": "python",
   "nbconvert_exporter": "python",
   "pygments_lexer": "ipython3",
   "version": "3.12.4"
  },
  "orig_nbformat": 4,
  "vscode": {
   "interpreter": {
    "hash": "6896f4621ed418c827cc1c4697cc94477b690e989ff44353709a63db573bca58"
   }
  }
 },
 "nbformat": 4,
 "nbformat_minor": 2
}
