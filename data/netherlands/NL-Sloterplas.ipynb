{
 "cells": [
  {
   "cell_type": "code",
   "execution_count": 47,
   "metadata": {},
   "outputs": [],
   "source": [
    "from bs4 import BeautifulSoup\n",
    "from datetime import datetime\n",
    "import requests\n",
    "import uuid\n",
    "import pandas as pd\n",
    "import sqlite3\n",
    "\n",
    "name = \"Sloterplas\"\n",
    "id = str(uuid.uuid5(uuid.NAMESPACE_DNS, name))\n",
    "lat, long = 52.3712858,4.8242057\n"
   ]
  },
  {
   "cell_type": "code",
   "execution_count": 48,
   "metadata": {},
   "outputs": [
    {
     "data": {
      "text/html": [
       "<div>\n",
       "<style scoped>\n",
       "    .dataframe tbody tr th:only-of-type {\n",
       "        vertical-align: middle;\n",
       "    }\n",
       "\n",
       "    .dataframe tbody tr th {\n",
       "        vertical-align: top;\n",
       "    }\n",
       "\n",
       "    .dataframe thead th {\n",
       "        text-align: right;\n",
       "    }\n",
       "</style>\n",
       "<table border=\"1\" class=\"dataframe\">\n",
       "  <thead>\n",
       "    <tr style=\"text-align: right;\">\n",
       "      <th></th>\n",
       "      <th>name</th>\n",
       "      <th>alternate_name</th>\n",
       "      <th>lat</th>\n",
       "      <th>long</th>\n",
       "    </tr>\n",
       "    <tr>\n",
       "      <th>id</th>\n",
       "      <th></th>\n",
       "      <th></th>\n",
       "      <th></th>\n",
       "      <th></th>\n",
       "    </tr>\n",
       "  </thead>\n",
       "  <tbody>\n",
       "    <tr>\n",
       "      <th>48da68d1-e6af-53df-961a-dfc6598035d5</th>\n",
       "      <td>Sloterplas</td>\n",
       "      <td>Sloterplas</td>\n",
       "      <td>52.371286</td>\n",
       "      <td>4.824206</td>\n",
       "    </tr>\n",
       "  </tbody>\n",
       "</table>\n",
       "</div>"
      ],
      "text/plain": [
       "                                            name alternate_name        lat  \\\n",
       "id                                                                           \n",
       "48da68d1-e6af-53df-961a-dfc6598035d5  Sloterplas     Sloterplas  52.371286   \n",
       "\n",
       "                                          long  \n",
       "id                                              \n",
       "48da68d1-e6af-53df-961a-dfc6598035d5  4.824206  "
      ]
     },
     "execution_count": 48,
     "metadata": {},
     "output_type": "execute_result"
    }
   ],
   "source": [
    "locations = pd.DataFrame(\n",
    "    [[id, name, name, lat, long]],\n",
    "    columns=[\"id\", \"name\", \"alternate_name\", \"lat\", \"long\"]\n",
    ").set_index(\"id\")\n",
    "locations"
   ]
  },
  {
   "cell_type": "code",
   "execution_count": 49,
   "metadata": {},
   "outputs": [],
   "source": [
    "# db = sqlite3.connect(\"../dataset.sqlite3\")\n",
    "# locations.to_sql(\"locations\", db, if_exists=\"append\")\n"
   ]
  },
  {
   "cell_type": "code",
   "execution_count": 50,
   "metadata": {},
   "outputs": [
    {
     "data": {
      "text/plain": [
       "'11 juli 2024'"
      ]
     },
     "execution_count": 50,
     "metadata": {},
     "output_type": "execute_result"
    }
   ],
   "source": [
    "page = requests.get(\"https://www.amsterdam.nl/toerisme-vrije-tijd/parken/sloterpark/waterkwaliteit-sloterplas/\")\n",
    "soup = BeautifulSoup(page.text)\n",
    "currentMeasurements = soup.find(\"table\")\n",
    "date = currentMeasurements.find_all(\"th\")[2].get_text()\n",
    "date = f\"{date} {datetime.now().year}\"\n",
    "date"
   ]
  },
  {
   "cell_type": "code",
   "execution_count": 51,
   "metadata": {},
   "outputs": [],
   "source": [
    "eColi = currentMeasurements.find_all(\"tr\")[1].find_all(\"td\")[2].get_text()\n",
    "intEnt = currentMeasurements.find_all(\"tr\")[2].find_all(\"td\")[2].get_text()\n",
    "blueAlg = currentMeasurements.find_all(\"tr\")[3].find_all(\"td\")[2].get_text()"
   ]
  },
  {
   "cell_type": "code",
   "execution_count": 52,
   "metadata": {},
   "outputs": [
    {
     "name": "stdout",
     "output_type": "stream",
     "text": [
      "11 juli 2024 969 93 6.1\n"
     ]
    }
   ],
   "source": [
    "print(date, eColi, intEnt, blueAlg)"
   ]
  }
 ],
 "metadata": {
  "kernelspec": {
   "display_name": "env",
   "language": "python",
   "name": "python3"
  },
  "language_info": {
   "codemirror_mode": {
    "name": "ipython",
    "version": 3
   },
   "file_extension": ".py",
   "mimetype": "text/x-python",
   "name": "python",
   "nbconvert_exporter": "python",
   "pygments_lexer": "ipython3",
   "version": "3.12.4"
  },
  "orig_nbformat": 4,
  "vscode": {
   "interpreter": {
    "hash": "6896f4621ed418c827cc1c4697cc94477b690e989ff44353709a63db573bca58"
   }
  }
 },
 "nbformat": 4,
 "nbformat_minor": 2
}
