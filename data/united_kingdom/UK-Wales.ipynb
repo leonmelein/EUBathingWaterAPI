{
 "cells": [
  {
   "cell_type": "code",
   "execution_count": 54,
   "metadata": {},
   "outputs": [],
   "source": [
    "import requests\n",
    "import json\n",
    "import pandas as pd"
   ]
  },
  {
   "cell_type": "code",
   "execution_count": 55,
   "metadata": {},
   "outputs": [],
   "source": [
    "server = \"https://environment.data.gov.uk/wales/bathing-waters/doc/bathing-water?_pageSize=1000&_view=bathing-water&_properties=latestProfile.countyName.name%2Cdistrict.alias%2ClatestSampleAssessment.followingSuspension.endOfSuspension%2ClatestSampleAssessment.sampleDateTime.ordinalYear%2ClatestComplianceAssessment.sampleYear.ordinalYear%2ClatestComplianceAssessment.assessmentQualifier%2ClatestComplianceAssessment.assessmentRegime&_lang=en%2Ccy%2Cnone\""
   ]
  },
  {
   "cell_type": "code",
   "execution_count": 56,
   "metadata": {},
   "outputs": [],
   "source": [
    "data = requests.get(server, headers={\"Accept\": \"application/json, text/javascript, */*; q=0.01\"})\n",
    "result = data.json()['result']['items']"
   ]
  },
  {
   "cell_type": "code",
   "execution_count": 57,
   "metadata": {},
   "outputs": [],
   "source": [
    "dataSet = []"
   ]
  },
  {
   "cell_type": "code",
   "execution_count": 58,
   "metadata": {},
   "outputs": [],
   "source": [
    "for item in result:\n",
    "    nameDF = pd.DataFrame(item['name'])\n",
    "    name = nameDF.loc[nameDF['_lang'] == \"en\"][\"_value\"].values[0]\n",
    "    \n",
    "    dataSet.append(\n",
    "        [item['eubwidNotation'], name, item['samplingPoint']['lat'], item['samplingPoint']['long']]\n",
    "    )\n"
   ]
  },
  {
   "cell_type": "code",
   "execution_count": 60,
   "metadata": {},
   "outputs": [
    {
     "data": {
      "text/html": [
       "<div>\n",
       "<style scoped>\n",
       "    .dataframe tbody tr th:only-of-type {\n",
       "        vertical-align: middle;\n",
       "    }\n",
       "\n",
       "    .dataframe tbody tr th {\n",
       "        vertical-align: top;\n",
       "    }\n",
       "\n",
       "    .dataframe thead th {\n",
       "        text-align: right;\n",
       "    }\n",
       "</style>\n",
       "<table border=\"1\" class=\"dataframe\">\n",
       "  <thead>\n",
       "    <tr style=\"text-align: right;\">\n",
       "      <th></th>\n",
       "      <th>id</th>\n",
       "      <th>name</th>\n",
       "      <th>lat</th>\n",
       "      <th>long</th>\n",
       "    </tr>\n",
       "  </thead>\n",
       "  <tbody>\n",
       "    <tr>\n",
       "      <th>0</th>\n",
       "      <td>ukl2202-36050</td>\n",
       "      <td>Penarth Beach</td>\n",
       "      <td>51.432191</td>\n",
       "      <td>-3.168261</td>\n",
       "    </tr>\n",
       "    <tr>\n",
       "      <th>1</th>\n",
       "      <td>ukl2202-36100</td>\n",
       "      <td>Jackson's Bay Barry Island</td>\n",
       "      <td>51.391360</td>\n",
       "      <td>-3.263285</td>\n",
       "    </tr>\n",
       "    <tr>\n",
       "      <th>2</th>\n",
       "      <td>ukl2202-36200</td>\n",
       "      <td>Whitmore Bay Barry Island</td>\n",
       "      <td>51.388367</td>\n",
       "      <td>-3.273982</td>\n",
       "    </tr>\n",
       "    <tr>\n",
       "      <th>3</th>\n",
       "      <td>ukl2202-36300</td>\n",
       "      <td>Cold Knap Barry</td>\n",
       "      <td>51.389958</td>\n",
       "      <td>-3.296964</td>\n",
       "    </tr>\n",
       "    <tr>\n",
       "      <th>4</th>\n",
       "      <td>ukl2202-36350</td>\n",
       "      <td>Col-Huw Beach (Llantwit Major)</td>\n",
       "      <td>51.396388</td>\n",
       "      <td>-3.501755</td>\n",
       "    </tr>\n",
       "    <tr>\n",
       "      <th>...</th>\n",
       "      <td>...</td>\n",
       "      <td>...</td>\n",
       "      <td>...</td>\n",
       "      <td>...</td>\n",
       "    </tr>\n",
       "    <tr>\n",
       "      <th>102</th>\n",
       "      <td>ukl1301-40500</td>\n",
       "      <td>Kinmel Bay (Sandy Cove)</td>\n",
       "      <td>53.312447</td>\n",
       "      <td>-3.535445</td>\n",
       "    </tr>\n",
       "    <tr>\n",
       "      <th>103</th>\n",
       "      <td>ukl1302-40550</td>\n",
       "      <td>Marine Lake, Rhyl</td>\n",
       "      <td>53.312900</td>\n",
       "      <td>-3.500900</td>\n",
       "    </tr>\n",
       "    <tr>\n",
       "      <th>104</th>\n",
       "      <td>ukl1302-40600</td>\n",
       "      <td>Rhyl</td>\n",
       "      <td>53.330877</td>\n",
       "      <td>-3.500066</td>\n",
       "    </tr>\n",
       "    <tr>\n",
       "      <th>105</th>\n",
       "      <td>ukl1302-40650</td>\n",
       "      <td>Rhyl East</td>\n",
       "      <td>53.325999</td>\n",
       "      <td>-3.486893</td>\n",
       "    </tr>\n",
       "    <tr>\n",
       "      <th>106</th>\n",
       "      <td>ukl1302-40700</td>\n",
       "      <td>Prestatyn</td>\n",
       "      <td>53.346291</td>\n",
       "      <td>-3.415731</td>\n",
       "    </tr>\n",
       "  </tbody>\n",
       "</table>\n",
       "<p>107 rows × 4 columns</p>\n",
       "</div>"
      ],
      "text/plain": [
       "                id                            name        lat      long\n",
       "0    ukl2202-36050                   Penarth Beach  51.432191 -3.168261\n",
       "1    ukl2202-36100      Jackson's Bay Barry Island  51.391360 -3.263285\n",
       "2    ukl2202-36200       Whitmore Bay Barry Island  51.388367 -3.273982\n",
       "3    ukl2202-36300                 Cold Knap Barry  51.389958 -3.296964\n",
       "4    ukl2202-36350  Col-Huw Beach (Llantwit Major)  51.396388 -3.501755\n",
       "..             ...                             ...        ...       ...\n",
       "102  ukl1301-40500         Kinmel Bay (Sandy Cove)  53.312447 -3.535445\n",
       "103  ukl1302-40550               Marine Lake, Rhyl  53.312900 -3.500900\n",
       "104  ukl1302-40600                            Rhyl  53.330877 -3.500066\n",
       "105  ukl1302-40650                       Rhyl East  53.325999 -3.486893\n",
       "106  ukl1302-40700                       Prestatyn  53.346291 -3.415731\n",
       "\n",
       "[107 rows x 4 columns]"
      ]
     },
     "execution_count": 60,
     "metadata": {},
     "output_type": "execute_result"
    }
   ],
   "source": [
    "dataDF = pd.DataFrame(dataSet, columns=['id', 'name', 'lat', 'long'])\n",
    "dataDF"
   ]
  },
  {
   "cell_type": "code",
   "execution_count": 61,
   "metadata": {},
   "outputs": [],
   "source": [
    "dataDF.to_csv(\"wales.csv\")"
   ]
  },
  {
   "cell_type": "code",
   "execution_count": null,
   "metadata": {},
   "outputs": [],
   "source": []
  }
 ],
 "metadata": {
  "kernelspec": {
   "display_name": "env",
   "language": "python",
   "name": "python3"
  },
  "language_info": {
   "codemirror_mode": {
    "name": "ipython",
    "version": 3
   },
   "file_extension": ".py",
   "mimetype": "text/x-python",
   "name": "python",
   "nbconvert_exporter": "python",
   "pygments_lexer": "ipython3",
   "version": "3.10.9"
  },
  "orig_nbformat": 4,
  "vscode": {
   "interpreter": {
    "hash": "6896f4621ed418c827cc1c4697cc94477b690e989ff44353709a63db573bca58"
   }
  }
 },
 "nbformat": 4,
 "nbformat_minor": 2
}
